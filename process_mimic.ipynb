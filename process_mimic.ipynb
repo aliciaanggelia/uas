{
  "nbformat": 4,
  "nbformat_minor": 0,
  "metadata": {
    "colab": {
      "name": "process_mimic.ipynb",
      "provenance": [],
      "collapsed_sections": []
    },
    "kernelspec": {
      "name": "python3",
      "display_name": "Python 3"
    },
    "accelerator": "GPU"
  },
  "cells": [
    {
      "metadata": {
        "id": "dkIm2oJnyjVK"
      },
      "cell_type": "code",
      "source": [
        "import sys\n",
        "import _pickle as pickle\n",
        "import numpy as np\n",
        "from datetime import datetime"
      ],
      "execution_count": 1,
      "outputs": []
    },
    {
      "metadata": {
        "id": "F3LE_9PVyBfI"
      },
      "cell_type": "code",
      "source": [
        "from google.colab import drive\n",
        "drive.mount('/content/gdrive', force_remount=True)"
      ],
      "execution_count": null,
      "outputs": []
    },
    {
      "metadata": {
        "id": "QbwB-8Fdylim"
      },
      "cell_type": "code",
      "source": [
        "def convert_to_icd9(dxStr):\n",
        "    if dxStr.startswith('E'):\n",
        "        if len(dxStr) > 4: return dxStr[:4] + '.' + dxStr[4:]\n",
        "        else: return dxStr\n",
        "    else:\n",
        "        if len(dxStr) > 3: return dxStr[:3] + '.' + dxStr[3:]\n",
        "        else: return dxStr"
      ],
      "execution_count": 3,
      "outputs": []
    },
    {
      "metadata": {
        "id": "DEHXM6G2yqLR"
      },
      "cell_type": "code",
      "source": [
        "def convert_to_3digit_icd9(dxStr):\n",
        "    if dxStr.startswith('E'):\n",
        "        if len(dxStr) > 4: return dxStr[:4]\n",
        "        else: return dxStr\n",
        "    else:\n",
        "        if len(dxStr) > 3: return dxStr[:3]\n",
        "        else: return dxStr"
      ],
      "execution_count": 4,
      "outputs": []
    },
    {
      "metadata": {
        "id": "WTP8qLpe4GsQ"
      },
      "cell_type": "code",
      "source": [
        "# input arguments\n",
        "binary_count = 'binary'"
      ],
      "execution_count": 5,
      "outputs": []
    },
    {
      "metadata": {
        "id": "m40Qy9Ok4KB7"
      },
      "cell_type": "code",
      "source": [
        "root_dir = \"/content/gdrive/My Drive/\"\n",
        "\n",
        "if binary_count == 'count':\n",
        "  base_dir = root_dir + 'GOSH/Synthetic Data/medgan/count/'\n",
        "else:\n",
        "  base_dir = root_dir + 'GOSH/Synthetic Data/medgan/binary/'\n",
        "\n",
        "raw_data_dir = root_dir + 'GOSH/Synthetic Data/medgan/mimic/'\n",
        "processed_data_dir = base_dir + 'processed_mimic/'\n",
        "model_dir = base_dir + 'models/'\n",
        "gen_data_dir = base_dir + 'generated_data/'"
      ],
      "execution_count": 6,
      "outputs": []
    },
    {
      "metadata": {
        "id": "84a4GULe5NmG"
      },
      "cell_type": "code",
      "source": [
        "admissionFile = raw_data_dir + 'ADMISSIONS.csv'\n",
        "diagnosisFile = raw_data_dir + 'DIAGNOSES_ICD.csv'\n",
        "outFile = processed_data_dir + 'processed_mimic'"
      ],
      "execution_count": 7,
      "outputs": []
    },
    {
      "metadata": {
        "id": "0o1e-8_RyttW"
      },
      "cell_type": "code",
      "source": [
        "if binary_count != 'binary' and binary_count != 'count':\n",
        "    print('You must choose either binary or count.')"
      ],
      "execution_count": 8,
      "outputs": []
    },
    {
      "metadata": {
        "id": "RYeXZcXe4-Zj",
        "outputId": "a7871517-a050-440a-a4ca-e518bbfee68c",
        "colab": {
          "base_uri": "https://localhost:8080/",
          "height": 260
        }
      },
      "cell_type": "code",
      "source": [
        "print('Building pid-admission mapping, admission-date mapping')\n",
        "pidAdmMap = {}\n",
        "admDateMap = {}\n",
        "infd = open(admissionFile, 'r')\n",
        "infd.readline()\n",
        "for line in infd:\n",
        "    tokens = line.strip().split(',')\n",
        "    pid = int(tokens[1])\n",
        "    admId = int(tokens[2])\n",
        "    admTime = datetime.strptime(tokens[3], '%Y-%m-%d %H:%M:%S')\n",
        "    admDateMap[admId] = admTime\n",
        "    if pid in pidAdmMap: pidAdmMap[pid].append(admId)\n",
        "    else: pidAdmMap[pid] = [admId]\n",
        "infd.close()\n",
        "\n",
        "print('Building admission-dxList mapping')\n",
        "admDxMap = {}\n",
        "infd = open(diagnosisFile, 'r')\n",
        "infd.readline()\n",
        "for line in infd:\n",
        "    tokens = line.strip().split(',')\n",
        "    admId = int(tokens[2])\n",
        "    # Uncomment this line and comment the line below, if you want to use the entire ICD9 digits.\n",
        "    dxStr = 'D_' + convert_to_icd9(tokens[4][1:-1])\n",
        "    #dxStr = 'D_' + convert_to_3digit_icd9(tokens[4][1:-1])\n",
        "    if admId in admDxMap: admDxMap[admId].append(dxStr)\n",
        "    else: admDxMap[admId] = [dxStr]\n",
        "infd.close()\n",
        "\n",
        "print('Building pid-sortedVisits mapping')\n",
        "pidSeqMap = {}\n",
        "for pid, admIdList in pidAdmMap.items():\n",
        "    #if len(admIdList) < 2: continue\n",
        "    sortedList = sorted([(admDateMap[admId], admDxMap[admId]) for admId in admIdList])\n",
        "    pidSeqMap[pid] = sortedList\n",
        "\n",
        "print('Building pids, dates, strSeqs')\n",
        "pids = []\n",
        "dates = []\n",
        "seqs = []\n",
        "for pid, visits in pidSeqMap.items():\n",
        "    pids.append(pid)\n",
        "    seq = []\n",
        "    date = []\n",
        "    for visit in visits:\n",
        "        date.append(visit[0])\n",
        "        seq.append(visit[1])\n",
        "    dates.append(date)\n",
        "    seqs.append(seq)\n",
        "\n",
        "print('Converting strSeqs to intSeqs, and making types')\n",
        "types = {}\n",
        "newSeqs = []\n",
        "for patient in seqs:\n",
        "    newPatient = []\n",
        "    for visit in patient:\n",
        "        newVisit = []\n",
        "        for code in visit:\n",
        "            if code in types:\n",
        "                newVisit.append(types[code])\n",
        "            else:\n",
        "                types[code] = len(types)\n",
        "                newVisit.append(types[code])\n",
        "        newPatient.append(newVisit)\n",
        "    newSeqs.append(newPatient)\n",
        "\n",
        "print('Constructing the matrix')\n",
        "numPatients = len(newSeqs)\n",
        "numCodes = len(types)\n",
        "matrix = np.zeros((numPatients, numCodes)).astype('float32')\n",
        "for i, patient in enumerate(newSeqs):\n",
        "    for visit in patient:\n",
        "        for code in visit:\n",
        "            if binary_count == 'binary':\n",
        "                matrix[i][code] = 1.\n",
        "            else:\n",
        "                matrix[i][code] += 1.\n",
        "\n",
        "pickle.dump(pids, open(outFile+'.pids', 'wb'), -1)\n",
        "pickle.dump(matrix, open(outFile+'.matrix', 'wb'), -1)\n",
        "pickle.dump(types, open(outFile+'.types', 'wb'), -1)"
      ],
      "execution_count": 9,
      "outputs": [
        {
          "output_type": "stream",
          "name": "stdout",
          "text": [
            "Building pid-admission mapping, admission-date mapping\n"
          ]
        },
        {
          "output_type": "error",
          "ename": "FileNotFoundError",
          "evalue": "ignored",
          "traceback": [
            "\u001b[0;31m---------------------------------------------------------------------------\u001b[0m",
            "\u001b[0;31mFileNotFoundError\u001b[0m                         Traceback (most recent call last)",
            "\u001b[0;32m<ipython-input-9-ee3c3b9557b6>\u001b[0m in \u001b[0;36m<module>\u001b[0;34m()\u001b[0m\n\u001b[1;32m      2\u001b[0m \u001b[0mpidAdmMap\u001b[0m \u001b[0;34m=\u001b[0m \u001b[0;34m{\u001b[0m\u001b[0;34m}\u001b[0m\u001b[0;34m\u001b[0m\u001b[0;34m\u001b[0m\u001b[0m\n\u001b[1;32m      3\u001b[0m \u001b[0madmDateMap\u001b[0m \u001b[0;34m=\u001b[0m \u001b[0;34m{\u001b[0m\u001b[0;34m}\u001b[0m\u001b[0;34m\u001b[0m\u001b[0;34m\u001b[0m\u001b[0m\n\u001b[0;32m----> 4\u001b[0;31m \u001b[0minfd\u001b[0m \u001b[0;34m=\u001b[0m \u001b[0mopen\u001b[0m\u001b[0;34m(\u001b[0m\u001b[0madmissionFile\u001b[0m\u001b[0;34m,\u001b[0m \u001b[0;34m'r'\u001b[0m\u001b[0;34m)\u001b[0m\u001b[0;34m\u001b[0m\u001b[0;34m\u001b[0m\u001b[0m\n\u001b[0m\u001b[1;32m      5\u001b[0m \u001b[0minfd\u001b[0m\u001b[0;34m.\u001b[0m\u001b[0mreadline\u001b[0m\u001b[0;34m(\u001b[0m\u001b[0;34m)\u001b[0m\u001b[0;34m\u001b[0m\u001b[0;34m\u001b[0m\u001b[0m\n\u001b[1;32m      6\u001b[0m \u001b[0;32mfor\u001b[0m \u001b[0mline\u001b[0m \u001b[0;32min\u001b[0m \u001b[0minfd\u001b[0m\u001b[0;34m:\u001b[0m\u001b[0;34m\u001b[0m\u001b[0;34m\u001b[0m\u001b[0m\n",
            "\u001b[0;31mFileNotFoundError\u001b[0m: [Errno 2] No such file or directory: '/content/gdrive/My Drive/GOSH/Synthetic Data/medgan/mimic/ADMISSIONS.csv'"
          ]
        }
      ]
    },
    {
      "metadata": {
        "id": "AaF-cC2t0pT6"
      },
      "cell_type": "code",
      "source": [
        ""
      ],
      "execution_count": null,
      "outputs": []
    }
  ]
}